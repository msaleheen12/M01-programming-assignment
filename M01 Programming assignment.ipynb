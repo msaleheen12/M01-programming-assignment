{
 "cells": [
  {
   "cell_type": "code",
   "execution_count": null,
   "id": "6ef87452-8a1d-42d0-b2f7-4790a33cf5ca",
   "metadata": {},
   "outputs": [],
   "source": []
  },
  {
   "cell_type": "code",
   "execution_count": 2,
   "id": "7524b918-cf6f-4d55-a0bc-2b07a05192c4",
   "metadata": {},
   "outputs": [
    {
     "data": {
      "text/plain": [
       "3600"
      ]
     },
     "execution_count": 2,
     "metadata": {},
     "output_type": "execute_result"
    }
   ],
   "source": [
    "#3.1- 1 hour has 3600 seconds.\n",
    "seconds_per_hour=60*60\n",
    "seconds_per_day= seconds_per_hour*24\n",
    "hours_in_day=seconds_per_day/seconds_per_hour\n",
    "integer_day= seconds_per_day//seconds_per_hour\n",
    "#3.6- Yes, the number agrees with the floating-point value from the previous question 3.5, aside from the final .0\n",
    "\n"
   ]
  },
  {
   "cell_type": "code",
   "execution_count": null,
   "id": "f7015249-4580-46b8-848f-40b20db0ff95",
   "metadata": {},
   "outputs": [],
   "source": []
  }
 ],
 "metadata": {
  "kernelspec": {
   "display_name": "Python 3 (ipykernel)",
   "language": "python",
   "name": "python3"
  },
  "language_info": {
   "codemirror_mode": {
    "name": "ipython",
    "version": 3
   },
   "file_extension": ".py",
   "mimetype": "text/x-python",
   "name": "python",
   "nbconvert_exporter": "python",
   "pygments_lexer": "ipython3",
   "version": "3.11.7"
  }
 },
 "nbformat": 4,
 "nbformat_minor": 5
}
